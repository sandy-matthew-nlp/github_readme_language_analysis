{
 "cells": [
  {
   "cell_type": "code",
   "execution_count": 1,
   "metadata": {},
   "outputs": [],
   "source": [
    "import os\n",
    "import re\n",
    "import requests\n",
    "import json\n",
    "from bs4 import BeautifulSoup as bsoup\n",
    "\n",
    "from requests import get\n",
    "from os import path\n",
    "import csv\n",
    "import pprint \n",
    "import itertools as it\n",
    "import pandas as pd"
   ]
  },
  {
   "cell_type": "code",
   "execution_count": 2,
   "metadata": {},
   "outputs": [],
   "source": [
    "import acquire_msc"
   ]
  },
  {
   "cell_type": "code",
   "execution_count": 3,
   "metadata": {},
   "outputs": [],
   "source": [
    "url_list = ['microsoft/Terminal', 'jackfrued/Python-100-Days', 'kkuchta/css-only-chat', 'microsoft/PowerToys', 'jolaleye/cssfx', 'MisterBooo/LeetCodeAnimation', 'flutter/flutter_web', 'TheAlgorithms/Python', 'hiroppy/fusuma', 'CyC2018/CS-Notes', 'jaywcjlove/linux-command', 'flutter/flutter', '996icu/996.ICU', 'STVIR/pysot', 'minamarkham/formation', 'azl397985856/leetcode', 'qianguyihao/Web', 'react-native-windows', 'sql-machine-learning/sqlflow', 'sabakkps/backslide', 'dgryski/go-perfbook', 'Snailclimb/JavaGuide', 'microsoft/vscode', 'markphelps/flipt', 'teoga/awesome-product-design']"
   ]
  },
  {
   "cell_type": "code",
   "execution_count": null,
   "metadata": {},
   "outputs": [],
   "source": [
    "repos = acquire_msc.get_all_readme_files_and_languages()\n"
   ]
  },
  {
   "cell_type": "code",
   "execution_count": 4,
   "metadata": {},
   "outputs": [
    {
     "name": "stdout",
     "output_type": "stream",
     "text": [
      "github name:  microsoft/Terminal\n",
      "url: https://github.com/microsoft/Terminal\n",
      "dict_keys(['title', 'language', 'content'])\n",
      "microsoft/Terminal\n",
      "C++\n",
      "github name:  jackfrued/Python-100-Days\n",
      "url: https://github.com/jackfrued/Python-100-Days\n",
      "dict_keys(['title', 'language', 'content'])\n",
      "jackfrued/Python-100-Days\n",
      "HTML\n",
      "github name:  kkuchta/css-only-chat\n",
      "url: https://github.com/kkuchta/css-only-chat\n",
      "dict_keys(['title', 'language', 'content'])\n",
      "kkuchta/css-only-chat\n",
      "Ruby\n",
      "github name:  microsoft/PowerToys\n",
      "url: https://github.com/microsoft/PowerToys\n",
      "dict_keys(['title', 'language', 'content'])\n",
      "microsoft/PowerToys\n",
      "Ruby\n",
      "github name:  jolaleye/cssfx\n",
      "url: https://github.com/jolaleye/cssfx\n",
      "dict_keys(['title', 'language', 'content'])\n",
      "jolaleye/cssfx\n",
      "Vue\n",
      "github name:  MisterBooo/LeetCodeAnimation\n",
      "url: https://github.com/MisterBooo/LeetCodeAnimation\n",
      "dict_keys(['title', 'language', 'content'])\n",
      "MisterBooo/LeetCodeAnimation\n",
      "Vue\n",
      "github name:  flutter/flutter_web\n",
      "url: https://github.com/flutter/flutter_web\n",
      "dict_keys(['title', 'language', 'content'])\n",
      "flutter/flutter_web\n",
      "Dart\n",
      "github name:  TheAlgorithms/Python\n",
      "url: https://github.com/TheAlgorithms/Python\n",
      "dict_keys(['title', 'language', 'content'])\n",
      "TheAlgorithms/Python\n",
      "Python\n",
      "github name:  hiroppy/fusuma\n",
      "url: https://github.com/hiroppy/fusuma\n",
      "dict_keys(['title', 'language', 'content'])\n",
      "hiroppy/fusuma\n",
      "CSS\n",
      "github name:  CyC2018/CS-Notes\n",
      "url: https://github.com/CyC2018/CS-Notes\n",
      "dict_keys(['title', 'language', 'content'])\n",
      "CyC2018/CS-Notes\n",
      "Java\n",
      "github name:  jaywcjlove/linux-command\n",
      "url: https://github.com/jaywcjlove/linux-command\n",
      "dict_keys(['title', 'language', 'content'])\n",
      "jaywcjlove/linux-command\n",
      "HTML\n",
      "github name:  flutter/flutter\n",
      "url: https://github.com/flutter/flutter\n",
      "dict_keys(['title', 'language', 'content'])\n",
      "flutter/flutter\n",
      "Dart\n",
      "github name:  996icu/996.ICU\n",
      "url: https://github.com/996icu/996.ICU\n",
      "dict_keys(['title', 'language', 'content'])\n",
      "996icu/996.ICU\n",
      "Rust\n",
      "github name:  STVIR/pysot\n",
      "url: https://github.com/STVIR/pysot\n",
      "dict_keys(['title', 'language', 'content'])\n",
      "STVIR/pysot\n",
      "Rust\n",
      "github name:  minamarkham/formation\n",
      "url: https://github.com/minamarkham/formation\n",
      "dict_keys(['title', 'language', 'content'])\n",
      "minamarkham/formation\n",
      "Rust\n",
      "github name:  azl397985856/leetcode\n",
      "url: https://github.com/azl397985856/leetcode\n",
      "dict_keys(['title', 'language', 'content'])\n",
      "azl397985856/leetcode\n",
      "Rust\n",
      "github name:  qianguyihao/Web\n",
      "url: https://github.com/qianguyihao/Web\n",
      "dict_keys(['title', 'language', 'content'])\n",
      "qianguyihao/Web\n",
      "Rust\n",
      "github name:  react-native-windows\n",
      "url: https://github.com/react-native-windows\n",
      "github name:  sql-machine-learning/sqlflow\n",
      "url: https://github.com/sql-machine-learning/sqlflow\n",
      "dict_keys(['title', 'language', 'content'])\n",
      "sql-machine-learning/sqlflow\n",
      "Go\n",
      "github name:  sabakkps/backslide\n",
      "url: https://github.com/sabakkps/backslide\n",
      "github name:  dgryski/go-perfbook\n",
      "url: https://github.com/dgryski/go-perfbook\n",
      "dict_keys(['title', 'language', 'content'])\n",
      "dgryski/go-perfbook\n",
      "Go\n",
      "github name:  Snailclimb/JavaGuide\n",
      "url: https://github.com/Snailclimb/JavaGuide\n",
      "dict_keys(['title', 'language', 'content'])\n",
      "Snailclimb/JavaGuide\n",
      "Go\n",
      "github name:  microsoft/vscode\n",
      "url: https://github.com/microsoft/vscode\n",
      "dict_keys(['title', 'language', 'content'])\n",
      "microsoft/vscode\n",
      "TypeScript\n",
      "github name:  markphelps/flipt\n",
      "url: https://github.com/markphelps/flipt\n",
      "dict_keys(['title', 'language', 'content'])\n",
      "markphelps/flipt\n",
      "Go\n",
      "github name:  teoga/awesome-product-design\n",
      "url: https://github.com/teoga/awesome-product-design\n",
      "dict_keys(['title', 'language', 'content'])\n",
      "teoga/awesome-product-design\n",
      "Go\n"
     ]
    }
   ],
   "source": [
    "repos = acquire_msc.get_alt(url_list)"
   ]
  },
  {
   "cell_type": "code",
   "execution_count": null,
   "metadata": {},
   "outputs": [],
   "source": [
    "repos"
   ]
  },
  {
   "cell_type": "code",
   "execution_count": null,
   "metadata": {},
   "outputs": [],
   "source": [
    "import prepare_msc"
   ]
  },
  {
   "cell_type": "code",
   "execution_count": 5,
   "metadata": {},
   "outputs": [],
   "source": [
    "def basic_clean(article):\n",
    "    '''\n",
    "    take in a string (article) and return it after applying some basic text cleaning to it:\n",
    "        - lowercase everything\n",
    "        - normalize unicode characters\n",
    "        - replace anything that is not a letter, number, whitespace or a single quote\n",
    "    '''\n",
    "    new_article = article.lower()\n",
    "    new_article = re.sub(r'\\s', ' ', new_article)\n",
    "    normalized = unicodedata.normalize('NFKD', new_article)                .encode('ascii', 'ignore')                .decode('utf-8')\n",
    "    without_special_chars = re.sub(r'[^\\w\\s]', ' ', normalized)\n",
    "    word_list = without_special_chars.split()\n",
    "    word_list = ' '.join(word_list)\n",
    "    return word_list"
   ]
  },
  {
   "cell_type": "code",
   "execution_count": 6,
   "metadata": {},
   "outputs": [
    {
     "data": {
      "text/plain": [
       "'python 100 python python c c python python java go devops python shell ruby go python php c python r scala matlab python r java lisp python python python python python python python 20185 make english as your working language practice makes perfect all experience comes from mistakes don t be one of the leeches either stand out or kicked out day01 15 python day01 python python python python python windows linux macos python dos hello world print idle repl idle day02 input day03 if if if else if elif else if day04 while break continue for range 1 100 day05 fibonacci craps day06 def return python day07 range keys values items setdefault fibonacci day08 __str__ day09 __slots__ __add__ __sub__ __or__ __getitem__ __setitem__ __len__ __repr__ __gt__ __lt__ __le__ __ge__ __eq__ __ne__ __contains__ c3 day10 tkintergui pygame day11 try except else finally raise csv csv json json day12 in not in is joinsplit strip pyperclip stringio re re compile groupgroups match search findallfinditer subsubn split day13 fork multiprocessing thread threading thread lock condition day14 a tcp ip ip python socket socket tcp tcp udp udp socketserver day14 b api api url requests json ftp ftplib ftp smtp pop3 imap smtplib poplib imaplib twilio day15 pillow word excel xlrd xlwt pdf pypdf2 reportlab day16 day20 python lambda gof io asyncawait day21 30 web html css javascript jquery vue js element bootstrap day31 35 linux linux linux linux linux vim shell day36 40 mysql mysql sql ddl create drop alter dml insert delete update select dcl grant revoke pythonmysql nosql nosql redis mongo day41 55 django day41 webhttp django 5 day42 ormcrud django day43 ajax ajax day44 day45 cookiesession day46 day47 day48 day49 day50 restfuldrf day51 restfuldrf day52 day53 day54 day55 html web day56 60 flask day56 flask day57 day58 day59 day60 day61 65 tornado day61 i o day62 tornado tornado 5tornado day63 aiomysqlaioredis day64 websocket websocket websocket websocket web day65 vue js echarts websocket day66 75 day66 day67 day68 day69 day70 day71 day72 scrapy day73 scrapy day74 scrapy day75 day76 90 day76 day77 pandas day78 numpyscipy day79 matplotlib day80 k knn day81 day82 day83 svm day84 k day85 day86 day87 day88 tensorflow day89 tensorflow day90 day91 100 91 scrum scrum master sprint backlog bug showcase 8 10 logoui to do in progress done flake8pylint python python pythonic gitmercury gitlabredmine jira jenkinstravis ci cms mis kmskpihrscrm app xmind 50 4 2018 8 7 2018 8 7 0 2 2018 8 7 2018 8 7 20 4 2018 8 7 2018 8 7 0 4 2018 8 8 2018 8 8 92 ooad uml python manage py makemigrations app python manage py migrate powerdesigner python manage py inspectdb app models py 93 98 django django django debug toolbar python api rest api restful restful restful api restful api api api rap2 yapi django rest framework redis celery rabbitmq 99 100 unittestpytestnose2toxddt coverage secret_key debug allowed_hosts https csrf_cookie_secur session_cookie_secure linux linux uwsgi gunicornnginx gunicornuwsgi gunicorn uwsgigunicorn gunicorn uwsgi nginxuwsgi nginxuwsgi uwsgiwsgi gunicornuwsgi docker django ab sqlslap sysbench shellpython selenium selenium ide selenium webdriver selenium remote control robot framework mysql sql web nginx keepalived cdn'"
      ]
     },
     "execution_count": 6,
     "metadata": {},
     "output_type": "execute_result"
    }
   ],
   "source": [
    "import unicodedata\n",
    "import re\n",
    "import json\n",
    "\n",
    "import nltk\n",
    "from nltk.tokenize.toktok import ToktokTokenizer\n",
    "from nltk.corpus import stopwords\n",
    "\n",
    "import pandas as pd\n",
    "basic_clean(repos[1]['content'])"
   ]
  },
  {
   "cell_type": "code",
   "execution_count": null,
   "metadata": {},
   "outputs": [],
   "source": []
  }
 ],
 "metadata": {
  "kernelspec": {
   "display_name": "Python 3",
   "language": "python",
   "name": "python3"
  },
  "language_info": {
   "codemirror_mode": {
    "name": "ipython",
    "version": 3
   },
   "file_extension": ".py",
   "mimetype": "text/x-python",
   "name": "python",
   "nbconvert_exporter": "python",
   "pygments_lexer": "ipython3",
   "version": "3.7.1"
  }
 },
 "nbformat": 4,
 "nbformat_minor": 2
}
