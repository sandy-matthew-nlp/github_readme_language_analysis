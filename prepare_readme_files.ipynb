{
 "cells": [
  {
   "cell_type": "code",
   "execution_count": 1,
   "metadata": {},
   "outputs": [],
   "source": [
    "# Preparation\n",
    "from acquire_msc import get_all_readme_files_and_languages\n",
    "from acquire_msc import get_alt\n",
    "import unicodedata\n",
    "import re\n",
    "import json\n",
    "\n",
    "import nltk\n",
    "from nltk.tokenize.toktok import ToktokTokenizer\n",
    "from nltk.corpus import stopwords\n",
    "\n",
    "import pandas as pd"
   ]
  },
  {
   "cell_type": "code",
   "execution_count": 2,
   "metadata": {},
   "outputs": [],
   "source": [
    "url_list = ['microsoft/Terminal', 'jackfrued/Python-100-Days', \n",
    "            'kkuchta/css-only-chat', 'microsoft/PowerToys', 'jolaleye/cssfx', \n",
    "            'MisterBooo/LeetCodeAnimation', 'flutter/flutter_web', \n",
    "            'TheAlgorithms/Python', 'hiroppy/fusuma', 'CyC2018/CS-Notes', \n",
    "            'jaywcjlove/linux-command', 'flutter/flutter', '996icu/996.ICU', \n",
    "            'STVIR/pysot', 'minamarkham/formation', 'azl397985856/leetcode', \n",
    "            'qianguyihao/Web', 'react-native-windows', 'sql-machine-learning/sqlflow', \n",
    "            'sabakkps/backslide', 'dgryski/go-perfbook', 'Snailclimb/JavaGuide', \n",
    "            'microsoft/vscode', 'markphelps/flipt', 'teoga/awesome-product-design']"
   ]
  },
  {
   "cell_type": "code",
   "execution_count": 3,
   "metadata": {},
   "outputs": [],
   "source": [
    "def basic_clean(article):\n",
    "    '''\n",
    "    take in a string (article) and return it after applying some basic text cleaning to it:\n",
    "        - lowercase everything\n",
    "        - normalize unicode characters\n",
    "        - replace anything that is not a letter, number, whitespace or a single quote\n",
    "    '''\n",
    "    new_article = article.lower()\n",
    "    new_article = re.sub(r'\\s', ' ', new_article)\n",
    "    normalized = unicodedata.normalize('NFKD', new_article)                .encode('ascii', 'ignore')                .decode('utf-8')\n",
    "    without_special_chars = re.sub(r'[^\\w\\s]', ' ', normalized)\n",
    "    word_list = without_special_chars.split()\n",
    "    word_list = ' '.join(word_list)\n",
    "    return word_list"
   ]
  },
  {
   "cell_type": "code",
   "execution_count": 4,
   "metadata": {},
   "outputs": [],
   "source": [
    "def tokenize(article):\n",
    "    '''tokenize all the words in the string, article'''\n",
    "    tokenizer = nltk.tokenize.ToktokTokenizer()\n",
    "    new_article = tokenizer.tokenize(article, return_str=True)\n",
    "    return new_article"
   ]
  },
  {
   "cell_type": "code",
   "execution_count": 5,
   "metadata": {},
   "outputs": [],
   "source": [
    "def print_stop_words(article):\n",
    "    '''accept some text, apply stemming to all of the words,\n",
    "        and print a list of value counts for all the stemmed words'''\n",
    "    # Create the nltk stemmer object, then use it\n",
    "    ps = nltk.porter.PorterStemmer()\n",
    "    stems = [ps.stem(word) for word in article.split()]\n",
    "    print(pd.Series(stems).value_counts())"
   ]
  },
  {
   "cell_type": "code",
   "execution_count": 6,
   "metadata": {},
   "outputs": [],
   "source": [
    "def stem(article):\n",
    "    '''accept a string and return it after applying stemming to all the words'''\n",
    "    ps = nltk.stem.PorterStemmer()\n",
    "    article_stemmed = ''.join([ps.stem(word) for word in article])\n",
    "    return article_stemmed"
   ]
  },
  {
   "cell_type": "code",
   "execution_count": 7,
   "metadata": {},
   "outputs": [],
   "source": [
    "def lemmatize(article):\n",
    "    '''accept a string and return it after applying lemmatization to each word.'''\n",
    "    wnl = nltk.stem.WordNetLemmatizer()\n",
    "    lemmatized_words = [wnl.lemmatize(word) for word in article]\n",
    "    article_lemmatized = ''.join(lemmatized_words)\n",
    "    return article_lemmatized"
   ]
  },
  {
   "cell_type": "code",
   "execution_count": 8,
   "metadata": {},
   "outputs": [],
   "source": [
    "def remove_stopwords(article, extra_words = None, exclude_words = None):\n",
    "    '''remove all the stopwords, including all the words in extra_words and excluding\n",
    "    all the words in exclude list'''\n",
    "\n",
    "    # get basic stopword list\n",
    "    stopword_list = stopwords.words('english')\n",
    "\n",
    "    # add extra words    \n",
    "    if extra_words != None:\n",
    "        stopword_list = stopword_list + extra_words\n",
    "    # remove excluded words\n",
    "    if exclude_words != None:\n",
    "        stopword_list = [word for word in stopword_list if word not in exclude_words]\n",
    "    \n",
    "    without_stopwords = [word for word in article.split(' ') if word not in stopword_list]\n",
    "    article_without_stopwords = ' '.join(without_stopwords)\n",
    "    return article_without_stopwords"
   ]
  },
  {
   "cell_type": "code",
   "execution_count": 9,
   "metadata": {},
   "outputs": [],
   "source": [
    "def prep_repo_html(this_dict, extra_words = None, exclude_words = None):\n",
    "    '''\n",
    "    takes in a dictionary representing an article and returns a dictionary that \n",
    "    looks like this:\n",
    "            {\n",
    "             'title': 'the original title',\n",
    "             'original': original,\n",
    "             'clean': article_without_stopwords\n",
    "            }\n",
    "    Note that if the orignal dictionary has a title property, it will remain unchanged \n",
    "    (same goes for the category property).\n",
    "    '''\n",
    "    # put the content section into article and make a copy\n",
    "    article = this_dict['content']\n",
    "    original = article\n",
    "\n",
    "    '''\n",
    "    apply some basic text cleaning to the string, article:\n",
    "        - lowercase everything\n",
    "        - normalize unicode characters\n",
    "        - replace anything that is not a letter, number, whitespace or a single quote\n",
    "    '''\n",
    "    article = basic_clean(article)\n",
    "\n",
    "    '''tokenize all the words in the string, article'''\n",
    "    article = tokenize(article)\n",
    "    \n",
    "    ''''apply lemmatization to each word in the string, article'''\n",
    "    article = lemmatize(article)\n",
    "    \n",
    "    '''remove all the stopwords, including all the words in extra_words and excluding\n",
    "    all the words in exclude list'''\n",
    "    article = remove_stopwords(article, extra_words, exclude_words)\n",
    "\n",
    "    keys = list(this_dict.keys())\n",
    "    \n",
    "    new_dict = {\n",
    "         'title': this_dict['title'],\n",
    "         'category': this_dict['category'] if 'category' in keys else 'repo_readme',        \n",
    "         'original': original,\n",
    "         'clean': article\n",
    "        }\n",
    "    return new_dict"
   ]
  },
  {
   "cell_type": "code",
   "execution_count": 10,
   "metadata": {},
   "outputs": [],
   "source": [
    "def prepare_repo_html_data(articles, extra_words = None, exclude_words = None):\n",
    "    # takes in the list of articles dictionaries, \n",
    "    # applies the prep_article function to each one, \n",
    "    # and returns the transformed data.\n",
    "    transformed_articles = []\n",
    "    for article_index in range(len(articles)):\n",
    "        transformed_entry = prep_repo_html(articles[article_index], extra_words, exclude_words)\n",
    "        transformed_articles.append(transformed_entry.copy())\n",
    "        df = pd.DataFrame.from_dict(transformed_articles)\n",
    "\n",
    "    return transformed_articles, df"
   ]
  },
  {
   "cell_type": "code",
   "execution_count": 11,
   "metadata": {},
   "outputs": [],
   "source": [
    "if __name__ == \"__main__\":\n",
    "    '''create a list of extra words and another of words to exclude from the stoplist'''\n",
    "    extra_words = ['codeup']\n",
    "    exclude_words = ['']\n",
    "\n",
    "    articles = get_alt(url_list)\n",
    "    transformed_data, df = prepare_repo_html_data(articles, extra_words, exclude_words)"
   ]
  },
  {
   "cell_type": "code",
   "execution_count": 12,
   "metadata": {},
   "outputs": [],
   "source": [
    "# if __name__ == \"__main__\":\n",
    "#     print(df)"
   ]
  },
  {
   "cell_type": "code",
   "execution_count": 13,
   "metadata": {},
   "outputs": [],
   "source": [
    "# if __name__ == \"__main__\":\n",
    "#     print(transformed_data)"
   ]
  },
  {
   "cell_type": "code",
   "execution_count": 14,
   "metadata": {},
   "outputs": [],
   "source": [
    "# if __name__ == \"__main__\":\n",
    "#     for index in range(len(transformed_data)):\n",
    "#         print ('index:', index)\n",
    "#         for key in transformed_data[index]:\n",
    "#             print('key:', key)\n",
    "#             print(transformed_data[index][key])\n",
    "#             print('*******************')\n",
    "#         print ('$$$$$$$$$$$$$$$$$$$$$$$$$$$$$')"
   ]
  },
  {
   "cell_type": "code",
   "execution_count": null,
   "metadata": {},
   "outputs": [],
   "source": []
  }
 ],
 "metadata": {
  "kernelspec": {
   "display_name": "Python 3",
   "language": "python",
   "name": "python3"
  },
  "language_info": {
   "codemirror_mode": {
    "name": "ipython",
    "version": 3
   },
   "file_extension": ".py",
   "mimetype": "text/x-python",
   "name": "python",
   "nbconvert_exporter": "python",
   "pygments_lexer": "ipython3",
   "version": "3.7.1"
  }
 },
 "nbformat": 4,
 "nbformat_minor": 2
}
