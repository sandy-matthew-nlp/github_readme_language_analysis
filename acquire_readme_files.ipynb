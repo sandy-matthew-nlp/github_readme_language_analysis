{
 "cells": [
  {
   "cell_type": "code",
   "execution_count": 1,
   "metadata": {},
   "outputs": [],
   "source": [
    "import os\n",
    "import re\n",
    "import requests\n",
    "import json\n",
    "from bs4 import BeautifulSoup as bsoup\n",
    "\n",
    "from requests import get\n",
    "from os import path\n",
    "import csv\n",
    "import pprint \n",
    "import itertools as it\n",
    "import pandas as pd"
   ]
  },
  {
   "cell_type": "code",
   "execution_count": 2,
   "metadata": {},
   "outputs": [],
   "source": [
    "def get_all_readme_files_and_languages():\n",
    "    BASE_URL = 'https://github.com'\n",
    "    SECTIONS = ['/microsoft/Terminal', '/jackfrued/Python-100-Days']\n",
    "\n",
    "\n",
    "    for section in SECTIONS:   \n",
    "        print('github name: ', section)\n",
    "        url = f'{BASE_URL}/{section}'\n",
    "        print('url:', url)\n",
    "        response = requests.get(url)\n",
    "        soup = bsoup(response.text)\n",
    "        # CREATE A LIST OF DICTIONARIES:\n",
    "        # Iterating through all of the relevant articles, extract the title and content\n",
    "        # Also add the category to the dictionary.\n",
    "        articles = []\n",
    "\n",
    "        for repo in soup.find_all(class_=\"repository-content\"):\n",
    "            if len(repo.find_all(class_='lang')) > 1:\n",
    "                if repo.find_all(class_='lang')[0] == 'Jupyter NoteBook':\n",
    "                    primary_language = repo.find_all(class_='lang')[1].text\n",
    "                else:\n",
    "                    primary_language = repo.find_all(class_='lang')[0].text\n",
    "            this_entry = {\n",
    "                        'title': section,\n",
    "                        'language': primary_language,\n",
    "                        'content': (repo.find(class_='markdown-body entry-content p-5').text.strip())\n",
    "                        }\n",
    "            print(this_entry.keys())\n",
    "            print(this_entry['title'])\n",
    "            print(this_entry['language'])\n",
    "            articles.append(this_entry)\n",
    "\n",
    "    return articles\n"
   ]
  },
  {
   "cell_type": "code",
   "execution_count": 3,
   "metadata": {},
   "outputs": [
    {
     "name": "stdout",
     "output_type": "stream",
     "text": [
      "github name:  /microsoft/Terminal\n",
      "url: https://github.com//microsoft/Terminal\n",
      "dict_keys(['title', 'language', 'content'])\n",
      "/microsoft/Terminal\n",
      "C++\n",
      "github name:  /jackfrued/Python-100-Days\n",
      "url: https://github.com//jackfrued/Python-100-Days\n",
      "dict_keys(['title', 'language', 'content'])\n",
      "/jackfrued/Python-100-Days\n",
      "HTML\n"
     ]
    },
    {
     "data": {
      "text/plain": [
       "[{'title': '/jackfrued/Python-100-Days',\n",
       "  'language': 'HTML',\n",
       "  'content': \"Python - 100天从新手到大师\\n\\n作者：骆昊\\n\\nPython应用领域和就业形势分析\\n简单的说，Python是一个“优雅”、“明确”、“简单”的编程语言。\\n\\n学习曲线低，非专业人士也能上手\\n开源系统，拥有强大的生态圈\\n解释型语言，完美的平台可移植性\\n支持面向对象和函数式编程\\n能够通过调用C/C++代码扩展功能\\n代码规范程度高，可读性强\\n\\n目前几个比较流行的领域，Python都有用武之地。\\n\\n云基础设施 - Python / Java / Go\\nDevOps - Python / Shell / Ruby / Go\\n网络爬虫 - Python / PHP / C++\\n数据分析挖掘 - Python / R / Scala / Matlab\\n机器学习 - Python / R / Java / Lisp\\n\\n作为一名Python开发者，主要的就业领域包括：\\n\\nPython服务器后台开发 / 游戏服务器开发 / 数据接口开发工程师\\nPython自动化运维工程师\\nPython数据分析 / 数据可视化 / 大数据工程师\\nPython爬虫工程师\\nPython聊天机器人开发 / 图像识别和视觉算法 / 深度学习工程师\\n\\n下图显示了主要城市Python招聘需求量及薪资待遇排行榜（截止到2018年5月）。\\n\\n\\n\\n给初学者的几个建议：\\n\\nMake English as your working language.\\nPractice makes perfect.\\nAll experience comes from mistakes.\\nDon't be one of the leeches.\\nEither stand out or kicked out.\\n\\nDay01~15 - Python语言基础\\nDay01 - 初识Python\\n\\nPython简介 - Python的历史 / Python的优缺点 / Python的应用领域\\n搭建编程环境 - Windows环境 / Linux环境 / MacOS环境\\n从终端运行Python程序 - DOS命令 / Hello, world / print函数 / 运行程序\\n使用IDLE - 交互式环境(REPL) / 编写多行代码 / 运行程序 / 退出IDLE\\n注释 - 注释的作用 / 单行注释 / 多行注释\\n\\nDay02 - 语言元素\\n\\n程序和进制 - 指令和程序 / 冯诺依曼机 / 二进制和十进制 / 八进制和十六进制\\n变量和类型 - 变量的命名 / 变量的使用 / input函数 / 检查变量类型 / 类型转换\\n数字和字符串 - 整数 / 浮点数 / 复数 / 字符串 / 字符串基本操作 / 字符编码\\n运算符 - 数学运算符 / 赋值运算符 / 比较运算符 / 逻辑运算符 / 身份运算符 / 运算符的优先级\\n应用案例 - 华氏温度转换成摄氏温度 / 输入圆的半径计算周长和面积 / 输入年份判断是否是闰年\\n\\nDay03 - 分支结构\\n\\n分支结构的应用场景 - 条件 / 缩进 / 代码块 / 流程图\\nif语句 - 简单的if / if-else结构 / if-elif-else结构 / 嵌套的if\\n应用案例 - 用户身份验证 / 英制单位与公制单位互换 / 掷骰子决定做什么 / 百分制成绩转等级制 / 分段函数求值 / 输入三条边的长度如果能构成三角形就计算周长和面积\\n\\nDay04 - 循环结构\\n\\n循环结构的应用场景 - 条件 / 缩进 / 代码块 / 流程图\\nwhile循环 - 基本结构 / break语句 / continue语句\\nfor循环 - 基本结构 / range类型 / 循环中的分支结构 / 嵌套的循环 / 提前结束程序\\n应用案例 - 1~100求和 / 判断素数 / 猜数字游戏 / 打印九九表 / 打印三角形图案 / 猴子吃桃 / 百钱百鸡\\n\\nDay05 - 总结和练习\\n\\n基础练习 - 水仙花数 / 完美数 / 五人分鱼 / Fibonacci数列 / 回文素数\\n综合练习 - Craps赌博游戏\\n\\nDay06 - 函数和模块的使用\\n\\n函数的作用 - 代码的坏味道 / 用函数封装功能模块\\n定义函数 - def语句 / 函数名 / 参数列表 / return语句 / 调用自定义函数\\n调用函数 - Python内置函数 /  导入模块和函数\\n函数的参数 - 默认参数 / 可变参数 / 关键字参数 / 命名关键字参数\\n函数的返回值 - 没有返回值  / 返回单个值 / 返回多个值\\n作用域问题 - 局部作用域 / 嵌套作用域 / 全局作用域 / 内置作用域 / 和作用域相关的关键字\\n用模块管理函数 - 模块的概念 / 用自定义模块管理函数 / 命名冲突的时候会怎样（同一个模块和不同的模块）\\n\\nDay07 - 字符串和常用数据结构\\n\\n字符串的使用 - 计算长度 / 下标运算 / 切片 / 常用方法\\n列表基本用法 - 定义列表 / 用下表访问元素 / 下标越界 / 添加元素 / 删除元素 / 修改元素 / 切片 / 循环遍历\\n列表常用操作 - 连接 / 复制(复制元素和复制数组) / 长度 / 排序 / 倒转 / 查找\\n生成列表 - 使用range创建数字列表 / 生成表达式 / 生成器\\n元组的使用 - 定义元组 / 使用元组中的值 / 修改元组变量 / 元组和列表转换\\n集合基本用法 - 集合和列表的区别 /  创建集合 / 添加元素 / 删除元素 /  清空\\n集合常用操作 - 交集 / 并集 / 差集 / 对称差 / 子集 / 超集\\n字典的基本用法 - 字典的特点 / 创建字典 / 添加元素 / 删除元素 / 取值 / 清空\\n字典常用操作 - keys()方法 / values()方法 / items()方法 / setdefault()方法\\n基础练习 - 跑马灯效果 / 列表找最大元素 / 统计考试成绩的平均分 / Fibonacci数列 / 杨辉三角\\n综合案例 - 双色球选号 / 井字棋\\n\\nDay08 - 面向对象编程基础\\n\\n类和对象 - 什么是类 / 什么是对象 / 面向对象其他相关概念\\n定义类 - 基本结构 / 属性和方法 / 构造器 / 析构器 / __str__方法\\n使用对象 - 创建对象 / 给对象发消息\\n面向对象的四大支柱 - 抽象 / 封装 / 继承 / 多态\\n基础练习 - 定义学生类 / 定义时钟类 / 定义图形类 / 定义汽车类\\n\\nDay09 - 面向对象进阶\\n\\n属性 - 类属性 / 实例属性 / 属性访问器 / 属性修改器 / 属性删除器 / 使用__slots__\\n类中的方法 - 实例方法 / 类方法 / 静态方法\\n运算符重载 - __add__ / __sub__ / __or__ /__getitem__ / __setitem__ / __len__ / __repr__ / __gt__ / __lt__ / __le__ / __ge__ / __eq__ / __ne__ / __contains__\\n类(的对象)之间的关系 - 关联 / 继承 / 依赖\\n继承和多态 - 什么是继承 / 继承的语法 / 调用父类方法 / 方法重写 / 类型判定 / 多重继承 / 菱形继承(钻石继承)和C3算法\\n综合案例 - 工资结算系统 / 图书自动折扣系统 / 自定义分数类\\n\\nDay10 - 图形用户界面和游戏开发\\n\\n使用tkinter开发GUI\\n使用pygame三方库开发游戏应用\\n“大球吃小球”游戏\\n\\nDay11 - 文件和异常\\n\\n读文件 - 读取整个文件 / 逐行读取 / 文件路径\\n写文件 - 覆盖写入 / 追加写入 / 文本文件 / 二进制文件\\n异常处理 - 异常机制的重要性 / try-except代码块 / else代码块 / finally代码块 / 内置异常类型 / 异常栈 / raise语句\\n数据持久化 - CSV文件概述 / csv模块的应用 / JSON数据格式 / json模块的应用\\n综合案例 - 歌词解析\\n\\nDay12 - 字符串和正则表达式\\n\\n字符串高级操作 - 转义字符 \\\\ 原始字符串 \\\\ 多行字符串 \\\\ in和 not in运算符 \\\\ is开头的方法 \\\\ join和split方法 \\\\ strip相关方法 \\\\ pyperclip模块 \\\\ 不变字符串和可变字符串 \\\\ StringIO的使用\\n正则表达式入门 - 正则表达式的作用 \\\\ 元字符 \\\\ 转义 \\\\ 量词 \\\\ 分组 \\\\ 零宽断言 \\\\贪婪匹配与惰性匹配懒惰 \\\\ 使用re模块实现正则表达式操作（匹配、搜索、替换、捕获）\\n使用正则表达式 - re模块 \\\\ compile函数 \\\\ group和groups方法 \\\\ match方法 \\\\ search方法 \\\\ findall和finditer方法 \\\\ sub和subn方法 \\\\ split方法\\n应用案例 - 使用正则表达式验证输入的字符串\\n\\nDay13 - 进程和线程\\n\\n进程和线程的概念 - 什么是进程 / 什么是线程 / 多线程的应用场景\\n使用进程 - fork函数 / multiprocessing模块 / 进程池 / 进程间通信\\n使用线程 - thread模块 / threading模块 / Thread类 / Lock类 / Condition类 / 线程池\\n\\nDay14-A - 网络编程入门\\n\\n计算机网络基础 - 计算机网络发展史 / “TCP-IP”模型 / IP地址 / 端口 / 协议 / 其他相关概念\\n网络应用架构 - “客户端-服务器”架构 / “浏览器-服务器”架构\\nPython网络编程 - 套接字的概念 / socket模块 /  socket函数 / 创建TCP服务器 / 创建TCP客户端 / 创建UDP服务器 / 创建UDP客户端 / SocketServer模块\\n\\nDay14-B - 网络应用开发\\n\\n访问网络API - 网络API概述 / 访问URL / requests模块 / 解析JSON格式数据\\n文件传输 - FTP协议 / ftplib模块 / 交互式FTP应用\\n电子邮件 - SMTP协议 / POP3协议 / IMAP协议 / smtplib模块 / poplib模块 / imaplib模块\\n短信服务 - twilio模块 / 国内的短信服务\\n\\nDay15 - 图像和文档处理\\n\\n用Pillow处理图片 - 图片读写 / 图片合成 / 几何变换 / 色彩转换 / 滤镜效果\\n读写Word文档 - 文本内容的处理 / 段落 / 页眉和页脚 / 样式的处理\\n读写Excel文件 - xlrd模块 / xlwt模块\\n生成PDF文件 - pypdf2模块 / reportlab模块\\n\\nDay16~Day20 - Python语言进阶 \\n\\n常用数据结构\\n函数的高级用法 - “一等公民” / 高阶函数 / Lambda函数 / 作用域和闭包 / 装饰器\\n面向对象高级知识 - “三大支柱” / 类与类之间的关系 / 垃圾回收 / 魔术属性和方法 / 混入 / 元类 / 面向对象设计原则 / GoF设计模式\\n迭代器和生成器 - 相关魔术方法 / 创建生成器的两种方式 /\\n并发和异步编程 - 多线程 / 多进程 / 异步IO / async和await\\n\\nDay21~30 - Web前端入门\\n\\n用HTML标签承载页面内容\\n用CSS渲染页面\\n用JavaScript处理交互式行为\\njQuery入门和提高\\nVue.js入门\\nElement的使用\\nBootstrap的使用\\n\\nDay31~35 - 玩转Linux操作系统\\n\\n操作系统发展史和Linux概述\\nLinux基础命令\\nLinux中的实用程序\\nLinux的文件系统\\nVim编辑器的应用\\n环境变量和Shell编程\\n软件的安装和服务的配置\\n网络访问和管理\\n其他相关内容\\n\\nDay36~40 - 数据库基础和进阶\\n\\n关系型数据库MySQL\\n\\n关系型数据库概述\\nMySQL的安装和使用\\nSQL的使用\\n\\nDDL - 数据定义语言 - create / drop / alter\\nDML - 数据操作语言 - insert / delete / update / select\\nDCL - 数据控制语言 - grant / revoke\\n\\n\\n相关知识\\n\\n范式理论 - 设计二维表的指导思想\\n数据完整性\\n数据一致性\\n\\n\\n在Python中操作MySQL\\n\\n\\nNoSQL入门\\n\\nNoSQL概述\\nRedis概述\\nMongo概述\\n\\n\\n\\nDay41~55 - 实战Django\\nDay41 - 快速上手\\n\\nWeb应用工作原理和HTTP协议\\nDjango框架概述\\n5分钟快速上手\\n使用视图模板\\n\\nDay42 - 深入模型\\n\\n关系型数据库配置\\n管理后台的使用\\n使用ORM完成对模型的CRUD操作\\nDjango模型最佳实践\\n模型定义参考\\n\\nDay43 - 静态资源和Ajax请求\\n\\n加载静态资源\\n用Ajax请求获取数据\\n\\nDay44 - 表单的应用\\nDay45 - Cookie和Session\\nDay46 - 中间件的应用\\nDay47 - 日志和缓存\\nDay48 - 文件上传和富文本编辑\\nDay49 - 文件下载和报表\\nDay50 - RESTful架构和DRF入门\\nDay51 - RESTful架构和DRF进阶\\nDay52 - 使用缓存\\nDay53 - 短信和邮件\\nDay54 - 异步任务和定时任务\\nDay55 - 单元测试和项目上线\\n\\n项目开发流程和相关工具\\n生成非HTML内容\\n项目部署和测试\\n项目性能初步调优\\nWeb应用安全保护\\n\\nDay56~60 - 实战Flask\\nDay56 - Flask入门\\nDay57 - 模板的使用\\nDay58 - 表单的处理\\nDay59 - 数据库操作\\nDay60 - 项目实战\\nDay61~65 - 实战Tornado\\nDay61 - 预备知识\\n\\n并发编程\\nI/O模式和事件驱动\\n\\nDay62 - Tornado入门\\n\\nTornado概述\\n5分钟上手Tornado\\n路由解析\\n请求处理器\\n\\nDay63 - 异步化\\n\\naiomysql和aioredis的使用\\n\\nDay64 - WebSocket的应用\\n\\nWebSocket简介\\nWebSocket服务器端编程\\nWebSocket客户端编程\\n项目：Web聊天室\\n\\nDay65 - 项目实战\\n\\n前后端分离开发和接口文档的撰写\\n使用Vue.js实现前端渲染\\n使用ECharts实现报表功能\\n使用WebSocket实现推送服务\\n\\nDay66~75 - 爬虫开发\\nDay66 - 网络爬虫和相关工具\\nDay67 - 数据采集和解析\\nDay68 - 存储数据\\nDay69 - 并发下载\\nDay70 - 解析动态内容\\nDay71 - 表单交互和验证码处理\\nDay72 - Scrapy入门\\nDay73 - Scrapy高级应用\\nDay74 - Scrapy分布式实现\\nDay75 - 爬虫项目实战\\nDay76~90 - 数据处理和机器学习\\nDay76 - 机器学习基础\\nDay77 - Pandas的应用\\nDay78 - NumPy和SciPy的应用\\nDay79 - Matplotlib和数据可视化\\nDay80 - k最近邻(KNN)分类\\nDay81 - 决策树\\nDay82 - 贝叶斯分类\\nDay83 - 支持向量机(SVM)\\nDay84 - K-均值聚类\\nDay85 - 回归分析\\nDay86 - 大数据分析入门\\nDay87 - 大数据分析进阶\\nDay88 - Tensorflow入门\\nDay89 - Tensorflow实战\\nDay90 - 推荐系统\\nDay91~100 - 团队项目开发\\n第91天：团队开发和项目选题\\n\\n\\n软件过程模型\\n\\n\\n经典过程模型（瀑布模型）\\n\\n可行性分析（研究做还是不做），输出《可行性分析报告》。\\n需求分析（研究做什么），输出《需求规格说明书》和产品界面原型图。\\n概要设计和详细设计，输出概念模型图、物理模型图、类图、时序图等。\\n编码 / 测试。\\n上线 / 维护。\\n\\n\\n\\n敏捷开发（Scrum）- 产品所有者、Scrum Master、研发人员 - Sprint\\n\\n产品的Backlog（用户故事、产品原型）。\\n计划会议（评估和预算）。\\n日常开发（站立会议、番茄工作法、结对编程、测试先行、代码重构……）。\\n修复bug（问题描述、重现步骤、测试人员、被指派人）。\\n评审会议（Showcase）。\\n回顾会议（当前周期做得好和不好的地方）。\\n\\n\\n补充：敏捷软件开发宣言\\n\\n个体和互动 高于 流程和工具\\n工作的软件 高于 详尽的文档\\n客户合作 高于 合同谈判\\n响应变化 高于 遵循计划\\n\\n\\n\\n\\n\\n\\n角色：产品所有者（决定做什么，能对需求拍板的人）、团队负责人（解决各种问题，专注如何更好的工作，屏蔽外部对开发团队的影响）、开发团队（项目执行人员，具体指开发人员和测试人员）。\\n准备工作：商业案例和资金、合同、憧憬、初始产品需求、初始发布计划、入股、组建团队。\\n敏捷团队通常人数为8-10人。\\n工作量估算：将开发任务量化，包括原型、Logo设计、UI设计、前端开发等，尽量把每个工作分解到最小任务量，最小任务量标准为工作时间不能超过两天，然后估算总体项目时间。把每个任务都贴在白板上面，白板上分三部分：to do（待完成）、in progress（进行中）和done（已完成）。\\n\\n\\n\\n项目团队组建\\n\\n\\n团队的构成和角色\\n\\n说明：谢谢付祥英女士绘制了下面这张精美的公司组织架构图。\\n\\n\\n\\n\\n编程规范和代码审查（flake8、pylint）\\n\\n\\n\\nPython中的一些“惯例”（请参考《Python惯例-如何编写Pythonic的代码》）\\n\\n\\n影响代码可读性的原因：\\n\\n代码注释太少或者没有注释\\n代码破坏了语言的最佳实践\\n反模式编程（意大利面代码、复制-黏贴编程、自负编程、……）\\n\\n\\n\\n\\n\\n团队开发工具介绍\\n\\n版本控制：Git、Mercury\\n缺陷管理：Gitlab、Redmine\\n敏捷闭环工具：禅道、JIRA\\n持续集成：Jenkins、Travis-CI\\n\\n请参考《团队项目开发》。\\n\\n\\n项目选题和理解业务\\n\\n\\n选题范围设定\\n\\n\\nCMS（用户端）：新闻聚合网站、问答/分享社区、影评/书评网站等。\\n\\n\\nMIS（用户端+管理端）：KMS、KPI考核系统、HRS、CRM系统、供应链系统、仓储管理系统等。\\n\\n\\nApp后台（管理端+数据接口）：二手交易类、报刊杂志类、小众电商类、新闻资讯类、旅游类、社交类、阅读类等。\\n\\n\\n其他类型：自身行业背景和工作经验、业务容易理解和把控。\\n\\n\\n\\n\\n需求理解、模块划分和任务分配\\n\\n需求理解：头脑风暴和竞品分析。\\n模块划分：画思维导图（XMind），每个模块是一个枝节点，每个具体的功能是一个叶节点（用动词表述），需要确保每个叶节点无法再生出新节点，确定每个叶子节点的重要性、优先级和工作量。\\n任务分配：由项目负责人根据上面的指标为每个团队成员分配任务。\\n\\n\\n\\n\\n制定项目进度表（每日更新）\\n\\n\\n\\n模块\\n功能\\n人员\\n状态\\n完成\\n工时\\n计划开始\\n实际开始\\n计划结束\\n实际结束\\n备注\\n\\n\\n\\n\\n评论\\n添加评论\\n王大锤\\n正在进行\\n50%\\n4\\n2018/8/7\\n\\n2018/8/7\\n\\n\\n\\n\\n\\n删除评论\\n王大锤\\n等待\\n0%\\n2\\n2018/8/7\\n\\n2018/8/7\\n\\n\\n\\n\\n\\n查看评论\\n白元芳\\n正在进行\\n20%\\n4\\n2018/8/7\\n\\n2018/8/7\\n\\n需要进行代码审查\\n\\n\\n\\n评论投票\\n白元芳\\n等待\\n0%\\n4\\n2018/8/8\\n\\n2018/8/8\\n\\n\\n\\n\\n\\n\\n\\n第92天：数据库设计和OOAD\\n概念模型和正向工程\\n\\n\\nUML（统一建模语言）的类图\\n\\n\\n\\n通过模型创建表（正向工程）\\npython manage.py makemigrations app\\npython manage.py migrate\\n\\n\\n物理模型和反向工程\\n\\n\\nPowerDesigner\\n\\n\\n\\n通过数据表创建模型（反向工程）\\npython manage.py inspectdb > app/models.py\\n\\n\\n第93-98天：使用Django开发项目\\n\\n说明：具体内容请参考《Django知识点概述》\\n\\n项目开发中的公共问题\\n\\n数据库的配置（多数据库、主从复制、数据库路由）\\n缓存的配置（分区缓存、键设置、超时设置、主从复制、故障恢复（哨兵））\\n日志的配置\\n分析和调试（Django-Debug-ToolBar）\\n好用的Python模块（日期计算、图像处理、数据加密、三方API）\\n\\nREST API设计\\n\\nRESTful架构\\n\\n理解RESTful架构\\nRESTful API设计指南\\nRESTful API最佳实践\\n\\n\\nAPI接口文档的撰写（《网络API接口设计》）\\n\\nRAP2\\nYAPI\\n\\n\\ndjango-REST-framework的应用\\n\\n项目中的重点难点剖析\\n\\n使用缓存缓解数据库压力 - Redis\\n使用消息队列做解耦合和削峰 - Celery + RabbitMQ\\n\\n第99-100天：测试和部署\\n单元测试\\n\\n测试的种类\\n编写单元测试（unittest、pytest、nose2、tox、ddt、……）\\n测试覆盖率（coverage）\\n\\n项目部署\\n\\n说明：请参考《项目部署上线指南》。\\n\\n\\n部署前的准备工作\\n\\n关键设置（SECRET_KEY / DEBUG / ALLOWED_HOSTS / 缓存 / 数据库）\\nHTTPS / CSRF_COOKIE_SECUR  / SESSION_COOKIE_SECURE\\n日志相关配置\\n\\n\\nLinux常用命令回顾\\nLinux常用服务的安装和配置\\nuWSGI/Gunicorn和Nginx的使用\\n\\nGunicorn和uWSGI的比较\\n\\n对于不需要大量定制化的简单应用程序，Gunicorn是一个不错的选择，uWSGI的学习曲线比Gunicorn要陡峭得多，Gunicorn的默认参数就已经能够适应大多数应用程序。\\nuWSGI支持异构部署。\\n由于Nginx本身支持uWSGI，在线上一般都将Nginx和uWSGI捆绑在一起部署，而且uWSGI属于功能齐全且高度定制的WSGI中间件。\\n在性能上，Gunicorn和uWSGI其实表现相当。\\n\\n\\n\\n\\n虚拟化技术（Docker）\\n\\n性能测试\\n\\n说明：具体内容请参考《Django知识点概述》。\\n\\n\\nAB的使用\\nSQLslap的使用\\nsysbench的使用\\n\\n自动化测试\\n\\n使用Shell和Python进行自动化测试\\n使用Selenium实现自动化测试\\n\\nSelenium IDE\\nSelenium WebDriver\\nSelenium Remote Control\\n\\n\\n测试工具Robot Framework介绍\\n\\n项目性能调优\\n\\n\\n数据库性能调优 - 请参考《MySQL相关知识》\\n\\n\\n软硬件优化\\n\\n\\nSQL优化\\n\\n\\n架构优化\\n\\n\\n分表分库\\n\\n\\n主从复制，读写分离\\n\\n\\n集群架构\\n\\n\\n\\n\\n\\n\\nWeb服务器性能优化\\n\\n\\nNginx负载均衡配置\\n\\n\\nKeepalived实现高可用\\n\\n\\n\\n\\n代码性能调优\\n\\n多线程\\n异步化\\n\\n\\n\\n静态资源访问优化\\n\\n云存储\\nCDN\\n\\n\\n\\n\\n致谢：感谢的我的同事古晔、张旭、肖世荣、王海飞、荣佳伟、路丰坤等在技术上给予的指导和帮助。\"}]"
      ]
     },
     "execution_count": 3,
     "metadata": {},
     "output_type": "execute_result"
    }
   ],
   "source": [
    "get_all_readme_files_and_languages()"
   ]
  },
  {
   "cell_type": "code",
   "execution_count": 22,
   "metadata": {},
   "outputs": [
    {
     "name": "stdout",
     "output_type": "stream",
     "text": [
      "[]\n",
      "429\n"
     ]
    }
   ],
   "source": [
    "# break up url into parts for concatination\n",
    "url_p1 = 'https://github.com/search?p='\n",
    "url_p2 = [str(i) for i in range(0,20)]\n",
    "url_p3 = '&q=stars%3A%3E0&s=stars&type=Repositories'\n",
    "repo_urls = []\n",
    "for num in url_p2:\n",
    "   url = url_p1 + num + url_p3\n",
    "   response = requests.get(url)\n",
    "   soup = bsoup(response.text)\n",
    "   middles = soup.find_all(class_='v-align-middle')\n",
    "   urls = middles[-10:]\n",
    "   urls = [urls[i].text for i in range(0, len(urls))]\n",
    "   repo_urls = repo_urls + urls\n",
    "\n",
    "print(response.status_code)"
   ]
  },
  {
   "cell_type": "code",
   "execution_count": 20,
   "metadata": {},
   "outputs": [
    {
     "name": "stdout",
     "output_type": "stream",
     "text": [
      "repo_urls:\n",
      "[]\n"
     ]
    }
   ],
   "source": [
    "def get_all_readme_files_and_languages():\n",
    "    BASE_URL1 = 'https://github.com/search?p='\n",
    "    BASE_URL2 = '&q=stars%3A%3E0&type=Repositories'\n",
    "    page = [str(i) for i in range(0,20)]\n",
    "    repo_urls = []\n",
    "    \n",
    "    for num in page:   \n",
    "\n",
    "        url = f'{BASE_URL1}{page}{BASE_URL2}'\n",
    "        response = requests.get(url)\n",
    "        soup = bsoup(response.text)\n",
    "\n",
    "        middles = soup.find_all(class_='v-align-middle')\n",
    "        urls = middles[-10:]\n",
    "        urls = [urls[i].text for i in range(0, len(urls))]\n",
    "        repo_urls = repo_urls + urls\n",
    "    print('repo_urls:')\n",
    "    print(repo_urls)\n",
    "        \n",
    "#         for section in SECTIONS:   \n",
    "#             # CREATE A LIST OF DICTIONARIES:\n",
    "#             # Iterating through all of the relevant articles, extract the title and content\n",
    "#             # Also add the category to the dictionary.\n",
    "#             articles = []\n",
    "\n",
    "#             for repo in soup.find_all(class_=\"repository-content\"):\n",
    "#                 if len(repo.find_all(class_='lang')) > 1:\n",
    "#                     if repo.find_all(class_='lang')[0] == 'Jupyter NoteBook':\n",
    "#                         primary_language = repo.find_all(class_='lang')[1].text\n",
    "#                     else:\n",
    "#                         primary_language = repo.find_all(class_='lang')[0].text\n",
    "#                 this_entry = {\n",
    "#                             'title': section,\n",
    "#                             'language': primary_language,\n",
    "#                             'content': (repo.find(class_='markdown-body entry-content p-5').text.strip())\n",
    "#                             }\n",
    "#                 print(this_entry.keys())\n",
    "#                 print(this_entry['title'])\n",
    "#                 print(this_entry['language'])\n",
    "#                 articles.append(this_entry)\n",
    "\n",
    "#     return articles\n",
    "\n",
    "get_all_readme_files_and_languages()"
   ]
  },
  {
   "cell_type": "code",
   "execution_count": null,
   "metadata": {},
   "outputs": [],
   "source": []
  }
 ],
 "metadata": {
  "kernelspec": {
   "display_name": "Python 3",
   "language": "python",
   "name": "python3"
  },
  "language_info": {
   "codemirror_mode": {
    "name": "ipython",
    "version": 3
   },
   "file_extension": ".py",
   "mimetype": "text/x-python",
   "name": "python",
   "nbconvert_exporter": "python",
   "pygments_lexer": "ipython3",
   "version": "3.7.1"
  }
 },
 "nbformat": 4,
 "nbformat_minor": 2
}
